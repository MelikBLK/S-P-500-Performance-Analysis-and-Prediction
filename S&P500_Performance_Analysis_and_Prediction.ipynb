{
  "nbformat": 4,
  "nbformat_minor": 0,
  "metadata": {
    "colab": {
      "provenance": []
    },
    "kernelspec": {
      "name": "python3",
      "display_name": "Python 3"
    },
    "language_info": {
      "name": "python"
    }
  },
  "cells": [
    {
      "cell_type": "markdown",
      "source": [
        "# S&P 500 Performance Analysis and Price Prediction\n",
        "\n",
        "## Part 1: Setup and Data Collection\n",
        "\n",
        "### Objective\n",
        "In this part, we will:\n",
        "1. Download historical S&P 500 data from Yahoo Finance.\n",
        "2. Download Federal Funds Effective Rate (FEDFUNDS) data for the same period.\n"
      ],
      "metadata": {
        "id": "Pjdn4pOiyBQL"
      }
    },
    {
      "cell_type": "markdown",
      "source": [
        "### Step 1: Download S&P 500 Historical Data\n",
        "We will fetch the historical data for the S&P 500 index from December 1, 2004, to December 1, 2024.\n"
      ],
      "metadata": {
        "id": "-S6T3VYQyLyv"
      }
    },
    {
      "cell_type": "code",
      "source": [
        "import yfinance as yf\n",
        "import pandas as pd\n",
        "\n",
        "# Define the ticker symbol for S&P 500\n",
        "ticker_symbol = '^GSPC'\n",
        "\n",
        "# Define the date range\n",
        "start_date = '2004-12-01'\n",
        "end_date = '2024-12-01'\n",
        "\n",
        "# Download the data\n",
        "sp500_data = yf.download(ticker_symbol, start=start_date, end=end_date)\n",
        "\n",
        "# Save the raw dataset to a CSV file\n",
        "raw_file_path = 'SP500_raw_data.csv'\n",
        "sp500_data.to_csv(raw_file_path)\n",
        "\n",
        "# Display the first few rows of the raw dataset\n",
        "print(\"Raw S&P 500 Data saved to file:\")\n",
        "print(sp500_data.head())\n"
      ],
      "metadata": {
        "colab": {
          "base_uri": "https://localhost:8080/"
        },
        "id": "d1pVfiscvzVb",
        "outputId": "5d6a78f6-b828-4f5b-cbf1-6ef8d95c33b8"
      },
      "execution_count": 24,
      "outputs": [
        {
          "output_type": "stream",
          "name": "stderr",
          "text": [
            "\r[*********************100%***********************]  1 of 1 completed"
          ]
        },
        {
          "output_type": "stream",
          "name": "stdout",
          "text": [
            "Raw S&P 500 Data saved to file:\n",
            "Price                        Adj Close        Close         High          Low  \\\n",
            "Ticker                           ^GSPC        ^GSPC        ^GSPC        ^GSPC   \n",
            "Date                                                                            \n",
            "2004-12-01 00:00:00+00:00  1191.369995  1191.369995  1191.369995  1173.780029   \n",
            "2004-12-02 00:00:00+00:00  1190.329956  1190.329956  1194.800049  1186.719971   \n",
            "2004-12-03 00:00:00+00:00  1191.170044  1191.170044  1197.459961  1187.709961   \n",
            "2004-12-06 00:00:00+00:00  1190.250000  1190.250000  1192.410034  1185.180054   \n",
            "2004-12-07 00:00:00+00:00  1177.069946  1177.069946  1192.170044  1177.069946   \n",
            "\n",
            "Price                             Open      Volume  \n",
            "Ticker                           ^GSPC       ^GSPC  \n",
            "Date                                                \n",
            "2004-12-01 00:00:00+00:00  1173.780029  1772800000  \n",
            "2004-12-02 00:00:00+00:00  1191.369995  1774900000  \n",
            "2004-12-03 00:00:00+00:00  1190.329956  1566700000  \n",
            "2004-12-06 00:00:00+00:00  1191.170044  1354400000  \n",
            "2004-12-07 00:00:00+00:00  1190.250000  1533900000  \n"
          ]
        },
        {
          "output_type": "stream",
          "name": "stderr",
          "text": [
            "\n"
          ]
        }
      ]
    },
    {
      "cell_type": "markdown",
      "source": [
        "### Step 2: Download Federal Funds Effective Rate (FEDFUNDS) Data\n",
        "We will use the FRED API to fetch FEDFUNDS data for the same date range.\n"
      ],
      "metadata": {
        "id": "il1zz8T4yeE7"
      }
    },
    {
      "cell_type": "code",
      "source": [
        "# Correct import\n",
        "from pandas_datareader import data as pdr\n",
        "\n",
        "# Download FEDFUNDS data\n",
        "fedfunds_data = pdr.DataReader('FEDFUNDS', 'fred', start=start_date, end=end_date)\n",
        "\n",
        "# Display the first few rows of the raw FEDFUNDS dataset\n",
        "print(\"Raw FEDFUNDS Data:\")\n",
        "print(fedfunds_data.head())\n"
      ],
      "metadata": {
        "colab": {
          "base_uri": "https://localhost:8080/"
        },
        "id": "MrIi47QEvz8v",
        "outputId": "3e96356e-4db6-4eef-e6e4-108a572c35f0"
      },
      "execution_count": 25,
      "outputs": [
        {
          "output_type": "stream",
          "name": "stdout",
          "text": [
            "Raw FEDFUNDS Data:\n",
            "            FEDFUNDS\n",
            "DATE                \n",
            "2004-12-01      2.16\n",
            "2005-01-01      2.28\n",
            "2005-02-01      2.50\n",
            "2005-03-01      2.63\n",
            "2005-04-01      2.79\n"
          ]
        }
      ]
    },
    {
      "cell_type": "markdown",
      "source": [
        "## Part 2: Data Preprocessing\n",
        "\n",
        "### Step 1: Fix the Format of S&P 500 Historical Data\n",
        "The current dataset has:\n",
        "1. Irrelevant rows (e.g., \"Ticker\").\n",
        "2. Incorrect column headers.\n",
        "3. Date values used as an index, making it harder to process later.\n",
        "\n",
        "We will fix these issues by:\n",
        "- Dropping the first row with irrelevant data.\n",
        "- Resetting the index to include the \"Date\" column as part of the dataset.\n",
        "- Renaming the columns for clarity.\n"
      ],
      "metadata": {
        "id": "Zp6q-apK2Em6"
      }
    },
    {
      "cell_type": "code",
      "source": [
        "# Step 1: Skip the first two rows\n",
        "sp500_data_cleaned = pd.read_csv(\"SP500_raw_data.csv\", skiprows=2)\n",
        "\n",
        "# Step 2: Rename columns for clarity\n",
        "sp500_data_cleaned.columns = [\n",
        "    \"Date\", \"SP500_Adj_Close\", \"SP500_Close\",\n",
        "    \"SP500_High\", \"SP500_Low\", \"SP500_Open\", \"SP500_Volume\"\n",
        "]\n",
        "\n",
        "# Step 3: Convert the \"Date\" column to datetime format\n",
        "sp500_data_cleaned['Date'] = pd.to_datetime(sp500_data_cleaned['Date'], errors='coerce')\n",
        "\n",
        "# Display the cleaned dataset\n",
        "sp500_data_cleaned.head()\n"
      ],
      "metadata": {
        "colab": {
          "base_uri": "https://localhost:8080/",
          "height": 206
        },
        "id": "61DhT4HsxsYy",
        "outputId": "08da5635-9208-4935-eafa-41fd9578f2b5"
      },
      "execution_count": 26,
      "outputs": [
        {
          "output_type": "execute_result",
          "data": {
            "text/plain": [
              "                       Date  SP500_Adj_Close  SP500_Close   SP500_High  \\\n",
              "0 2004-12-01 00:00:00+00:00      1191.369995  1191.369995  1191.369995   \n",
              "1 2004-12-02 00:00:00+00:00      1190.329956  1190.329956  1194.800049   \n",
              "2 2004-12-03 00:00:00+00:00      1191.170044  1191.170044  1197.459961   \n",
              "3 2004-12-06 00:00:00+00:00      1190.250000  1190.250000  1192.410034   \n",
              "4 2004-12-07 00:00:00+00:00      1177.069946  1177.069946  1192.170044   \n",
              "\n",
              "     SP500_Low   SP500_Open  SP500_Volume  \n",
              "0  1173.780029  1173.780029    1772800000  \n",
              "1  1186.719971  1191.369995    1774900000  \n",
              "2  1187.709961  1190.329956    1566700000  \n",
              "3  1185.180054  1191.170044    1354400000  \n",
              "4  1177.069946  1190.250000    1533900000  "
            ],
            "text/html": [
              "\n",
              "  <div id=\"df-42e3dfbd-2a8c-4dc8-8d4d-14da501229e9\" class=\"colab-df-container\">\n",
              "    <div>\n",
              "<style scoped>\n",
              "    .dataframe tbody tr th:only-of-type {\n",
              "        vertical-align: middle;\n",
              "    }\n",
              "\n",
              "    .dataframe tbody tr th {\n",
              "        vertical-align: top;\n",
              "    }\n",
              "\n",
              "    .dataframe thead th {\n",
              "        text-align: right;\n",
              "    }\n",
              "</style>\n",
              "<table border=\"1\" class=\"dataframe\">\n",
              "  <thead>\n",
              "    <tr style=\"text-align: right;\">\n",
              "      <th></th>\n",
              "      <th>Date</th>\n",
              "      <th>SP500_Adj_Close</th>\n",
              "      <th>SP500_Close</th>\n",
              "      <th>SP500_High</th>\n",
              "      <th>SP500_Low</th>\n",
              "      <th>SP500_Open</th>\n",
              "      <th>SP500_Volume</th>\n",
              "    </tr>\n",
              "  </thead>\n",
              "  <tbody>\n",
              "    <tr>\n",
              "      <th>0</th>\n",
              "      <td>2004-12-01 00:00:00+00:00</td>\n",
              "      <td>1191.369995</td>\n",
              "      <td>1191.369995</td>\n",
              "      <td>1191.369995</td>\n",
              "      <td>1173.780029</td>\n",
              "      <td>1173.780029</td>\n",
              "      <td>1772800000</td>\n",
              "    </tr>\n",
              "    <tr>\n",
              "      <th>1</th>\n",
              "      <td>2004-12-02 00:00:00+00:00</td>\n",
              "      <td>1190.329956</td>\n",
              "      <td>1190.329956</td>\n",
              "      <td>1194.800049</td>\n",
              "      <td>1186.719971</td>\n",
              "      <td>1191.369995</td>\n",
              "      <td>1774900000</td>\n",
              "    </tr>\n",
              "    <tr>\n",
              "      <th>2</th>\n",
              "      <td>2004-12-03 00:00:00+00:00</td>\n",
              "      <td>1191.170044</td>\n",
              "      <td>1191.170044</td>\n",
              "      <td>1197.459961</td>\n",
              "      <td>1187.709961</td>\n",
              "      <td>1190.329956</td>\n",
              "      <td>1566700000</td>\n",
              "    </tr>\n",
              "    <tr>\n",
              "      <th>3</th>\n",
              "      <td>2004-12-06 00:00:00+00:00</td>\n",
              "      <td>1190.250000</td>\n",
              "      <td>1190.250000</td>\n",
              "      <td>1192.410034</td>\n",
              "      <td>1185.180054</td>\n",
              "      <td>1191.170044</td>\n",
              "      <td>1354400000</td>\n",
              "    </tr>\n",
              "    <tr>\n",
              "      <th>4</th>\n",
              "      <td>2004-12-07 00:00:00+00:00</td>\n",
              "      <td>1177.069946</td>\n",
              "      <td>1177.069946</td>\n",
              "      <td>1192.170044</td>\n",
              "      <td>1177.069946</td>\n",
              "      <td>1190.250000</td>\n",
              "      <td>1533900000</td>\n",
              "    </tr>\n",
              "  </tbody>\n",
              "</table>\n",
              "</div>\n",
              "    <div class=\"colab-df-buttons\">\n",
              "\n",
              "  <div class=\"colab-df-container\">\n",
              "    <button class=\"colab-df-convert\" onclick=\"convertToInteractive('df-42e3dfbd-2a8c-4dc8-8d4d-14da501229e9')\"\n",
              "            title=\"Convert this dataframe to an interactive table.\"\n",
              "            style=\"display:none;\">\n",
              "\n",
              "  <svg xmlns=\"http://www.w3.org/2000/svg\" height=\"24px\" viewBox=\"0 -960 960 960\">\n",
              "    <path d=\"M120-120v-720h720v720H120Zm60-500h600v-160H180v160Zm220 220h160v-160H400v160Zm0 220h160v-160H400v160ZM180-400h160v-160H180v160Zm440 0h160v-160H620v160ZM180-180h160v-160H180v160Zm440 0h160v-160H620v160Z\"/>\n",
              "  </svg>\n",
              "    </button>\n",
              "\n",
              "  <style>\n",
              "    .colab-df-container {\n",
              "      display:flex;\n",
              "      gap: 12px;\n",
              "    }\n",
              "\n",
              "    .colab-df-convert {\n",
              "      background-color: #E8F0FE;\n",
              "      border: none;\n",
              "      border-radius: 50%;\n",
              "      cursor: pointer;\n",
              "      display: none;\n",
              "      fill: #1967D2;\n",
              "      height: 32px;\n",
              "      padding: 0 0 0 0;\n",
              "      width: 32px;\n",
              "    }\n",
              "\n",
              "    .colab-df-convert:hover {\n",
              "      background-color: #E2EBFA;\n",
              "      box-shadow: 0px 1px 2px rgba(60, 64, 67, 0.3), 0px 1px 3px 1px rgba(60, 64, 67, 0.15);\n",
              "      fill: #174EA6;\n",
              "    }\n",
              "\n",
              "    .colab-df-buttons div {\n",
              "      margin-bottom: 4px;\n",
              "    }\n",
              "\n",
              "    [theme=dark] .colab-df-convert {\n",
              "      background-color: #3B4455;\n",
              "      fill: #D2E3FC;\n",
              "    }\n",
              "\n",
              "    [theme=dark] .colab-df-convert:hover {\n",
              "      background-color: #434B5C;\n",
              "      box-shadow: 0px 1px 3px 1px rgba(0, 0, 0, 0.15);\n",
              "      filter: drop-shadow(0px 1px 2px rgba(0, 0, 0, 0.3));\n",
              "      fill: #FFFFFF;\n",
              "    }\n",
              "  </style>\n",
              "\n",
              "    <script>\n",
              "      const buttonEl =\n",
              "        document.querySelector('#df-42e3dfbd-2a8c-4dc8-8d4d-14da501229e9 button.colab-df-convert');\n",
              "      buttonEl.style.display =\n",
              "        google.colab.kernel.accessAllowed ? 'block' : 'none';\n",
              "\n",
              "      async function convertToInteractive(key) {\n",
              "        const element = document.querySelector('#df-42e3dfbd-2a8c-4dc8-8d4d-14da501229e9');\n",
              "        const dataTable =\n",
              "          await google.colab.kernel.invokeFunction('convertToInteractive',\n",
              "                                                    [key], {});\n",
              "        if (!dataTable) return;\n",
              "\n",
              "        const docLinkHtml = 'Like what you see? Visit the ' +\n",
              "          '<a target=\"_blank\" href=https://colab.research.google.com/notebooks/data_table.ipynb>data table notebook</a>'\n",
              "          + ' to learn more about interactive tables.';\n",
              "        element.innerHTML = '';\n",
              "        dataTable['output_type'] = 'display_data';\n",
              "        await google.colab.output.renderOutput(dataTable, element);\n",
              "        const docLink = document.createElement('div');\n",
              "        docLink.innerHTML = docLinkHtml;\n",
              "        element.appendChild(docLink);\n",
              "      }\n",
              "    </script>\n",
              "  </div>\n",
              "\n",
              "\n",
              "<div id=\"df-3e794de6-9847-45c4-9098-f78789c245b4\">\n",
              "  <button class=\"colab-df-quickchart\" onclick=\"quickchart('df-3e794de6-9847-45c4-9098-f78789c245b4')\"\n",
              "            title=\"Suggest charts\"\n",
              "            style=\"display:none;\">\n",
              "\n",
              "<svg xmlns=\"http://www.w3.org/2000/svg\" height=\"24px\"viewBox=\"0 0 24 24\"\n",
              "     width=\"24px\">\n",
              "    <g>\n",
              "        <path d=\"M19 3H5c-1.1 0-2 .9-2 2v14c0 1.1.9 2 2 2h14c1.1 0 2-.9 2-2V5c0-1.1-.9-2-2-2zM9 17H7v-7h2v7zm4 0h-2V7h2v10zm4 0h-2v-4h2v4z\"/>\n",
              "    </g>\n",
              "</svg>\n",
              "  </button>\n",
              "\n",
              "<style>\n",
              "  .colab-df-quickchart {\n",
              "      --bg-color: #E8F0FE;\n",
              "      --fill-color: #1967D2;\n",
              "      --hover-bg-color: #E2EBFA;\n",
              "      --hover-fill-color: #174EA6;\n",
              "      --disabled-fill-color: #AAA;\n",
              "      --disabled-bg-color: #DDD;\n",
              "  }\n",
              "\n",
              "  [theme=dark] .colab-df-quickchart {\n",
              "      --bg-color: #3B4455;\n",
              "      --fill-color: #D2E3FC;\n",
              "      --hover-bg-color: #434B5C;\n",
              "      --hover-fill-color: #FFFFFF;\n",
              "      --disabled-bg-color: #3B4455;\n",
              "      --disabled-fill-color: #666;\n",
              "  }\n",
              "\n",
              "  .colab-df-quickchart {\n",
              "    background-color: var(--bg-color);\n",
              "    border: none;\n",
              "    border-radius: 50%;\n",
              "    cursor: pointer;\n",
              "    display: none;\n",
              "    fill: var(--fill-color);\n",
              "    height: 32px;\n",
              "    padding: 0;\n",
              "    width: 32px;\n",
              "  }\n",
              "\n",
              "  .colab-df-quickchart:hover {\n",
              "    background-color: var(--hover-bg-color);\n",
              "    box-shadow: 0 1px 2px rgba(60, 64, 67, 0.3), 0 1px 3px 1px rgba(60, 64, 67, 0.15);\n",
              "    fill: var(--button-hover-fill-color);\n",
              "  }\n",
              "\n",
              "  .colab-df-quickchart-complete:disabled,\n",
              "  .colab-df-quickchart-complete:disabled:hover {\n",
              "    background-color: var(--disabled-bg-color);\n",
              "    fill: var(--disabled-fill-color);\n",
              "    box-shadow: none;\n",
              "  }\n",
              "\n",
              "  .colab-df-spinner {\n",
              "    border: 2px solid var(--fill-color);\n",
              "    border-color: transparent;\n",
              "    border-bottom-color: var(--fill-color);\n",
              "    animation:\n",
              "      spin 1s steps(1) infinite;\n",
              "  }\n",
              "\n",
              "  @keyframes spin {\n",
              "    0% {\n",
              "      border-color: transparent;\n",
              "      border-bottom-color: var(--fill-color);\n",
              "      border-left-color: var(--fill-color);\n",
              "    }\n",
              "    20% {\n",
              "      border-color: transparent;\n",
              "      border-left-color: var(--fill-color);\n",
              "      border-top-color: var(--fill-color);\n",
              "    }\n",
              "    30% {\n",
              "      border-color: transparent;\n",
              "      border-left-color: var(--fill-color);\n",
              "      border-top-color: var(--fill-color);\n",
              "      border-right-color: var(--fill-color);\n",
              "    }\n",
              "    40% {\n",
              "      border-color: transparent;\n",
              "      border-right-color: var(--fill-color);\n",
              "      border-top-color: var(--fill-color);\n",
              "    }\n",
              "    60% {\n",
              "      border-color: transparent;\n",
              "      border-right-color: var(--fill-color);\n",
              "    }\n",
              "    80% {\n",
              "      border-color: transparent;\n",
              "      border-right-color: var(--fill-color);\n",
              "      border-bottom-color: var(--fill-color);\n",
              "    }\n",
              "    90% {\n",
              "      border-color: transparent;\n",
              "      border-bottom-color: var(--fill-color);\n",
              "    }\n",
              "  }\n",
              "</style>\n",
              "\n",
              "  <script>\n",
              "    async function quickchart(key) {\n",
              "      const quickchartButtonEl =\n",
              "        document.querySelector('#' + key + ' button');\n",
              "      quickchartButtonEl.disabled = true;  // To prevent multiple clicks.\n",
              "      quickchartButtonEl.classList.add('colab-df-spinner');\n",
              "      try {\n",
              "        const charts = await google.colab.kernel.invokeFunction(\n",
              "            'suggestCharts', [key], {});\n",
              "      } catch (error) {\n",
              "        console.error('Error during call to suggestCharts:', error);\n",
              "      }\n",
              "      quickchartButtonEl.classList.remove('colab-df-spinner');\n",
              "      quickchartButtonEl.classList.add('colab-df-quickchart-complete');\n",
              "    }\n",
              "    (() => {\n",
              "      let quickchartButtonEl =\n",
              "        document.querySelector('#df-3e794de6-9847-45c4-9098-f78789c245b4 button');\n",
              "      quickchartButtonEl.style.display =\n",
              "        google.colab.kernel.accessAllowed ? 'block' : 'none';\n",
              "    })();\n",
              "  </script>\n",
              "</div>\n",
              "\n",
              "    </div>\n",
              "  </div>\n"
            ],
            "application/vnd.google.colaboratory.intrinsic+json": {
              "type": "dataframe",
              "variable_name": "sp500_data_cleaned",
              "summary": "{\n  \"name\": \"sp500_data_cleaned\",\n  \"rows\": 5034,\n  \"fields\": [\n    {\n      \"column\": \"Date\",\n      \"properties\": {\n        \"dtype\": \"date\",\n        \"min\": \"2004-12-01 00:00:00+00:00\",\n        \"max\": \"2024-11-29 00:00:00+00:00\",\n        \"num_unique_values\": 5034,\n        \"samples\": [\n          \"2020-01-22 00:00:00+00:00\",\n          \"2014-12-23 00:00:00+00:00\",\n          \"2024-04-19 00:00:00+00:00\"\n        ],\n        \"semantic_type\": \"\",\n        \"description\": \"\"\n      }\n    },\n    {\n      \"column\": \"SP500_Adj_Close\",\n      \"properties\": {\n        \"dtype\": \"number\",\n        \"std\": 1256.628074908665,\n        \"min\": 676.530029296875,\n        \"max\": 6032.3798828125,\n        \"num_unique_values\": 4981,\n        \"samples\": [\n          910.7100219726562,\n          3005.699951171875,\n          827.1599731445312\n        ],\n        \"semantic_type\": \"\",\n        \"description\": \"\"\n      }\n    },\n    {\n      \"column\": \"SP500_Close\",\n      \"properties\": {\n        \"dtype\": \"number\",\n        \"std\": 1256.628074908665,\n        \"min\": 676.530029296875,\n        \"max\": 6032.3798828125,\n        \"num_unique_values\": 4981,\n        \"samples\": [\n          910.7100219726562,\n          3005.699951171875,\n          827.1599731445312\n        ],\n        \"semantic_type\": \"\",\n        \"description\": \"\"\n      }\n    },\n    {\n      \"column\": \"SP500_High\",\n      \"properties\": {\n        \"dtype\": \"number\",\n        \"std\": 1262.3584080229384,\n        \"min\": 695.27001953125,\n        \"max\": 6044.169921875,\n        \"num_unique_values\": 4968,\n        \"samples\": [\n          1424.489990234375,\n          2985.030029296875,\n          5651.6201171875\n        ],\n        \"semantic_type\": \"\",\n        \"description\": \"\"\n      }\n    },\n    {\n      \"column\": \"SP500_Low\",\n      \"properties\": {\n        \"dtype\": \"number\",\n        \"std\": 1250.078504766753,\n        \"min\": 666.7899780273438,\n        \"max\": 6003.97998046875,\n        \"num_unique_values\": 4977,\n        \"samples\": [\n          3689.320068359375,\n          1183.550048828125,\n          2337.25\n        ],\n        \"semantic_type\": \"\",\n        \"description\": \"\"\n      }\n    },\n    {\n      \"column\": \"SP500_Open\",\n      \"properties\": {\n        \"dtype\": \"number\",\n        \"std\": 1256.3890646722734,\n        \"min\": 679.280029296875,\n        \"max\": 6014.10986328125,\n        \"num_unique_values\": 4977,\n        \"samples\": [\n          3694.030029296875,\n          1201.5699462890625,\n          2353.7900390625\n        ],\n        \"semantic_type\": \"\",\n        \"description\": \"\"\n      }\n    },\n    {\n      \"column\": \"SP500_Volume\",\n      \"properties\": {\n        \"dtype\": \"number\",\n        \"std\": 1210881904,\n        \"min\": 724940000,\n        \"max\": 11456230000,\n        \"num_unique_values\": 4961,\n        \"samples\": [\n          4112180000,\n          2017270000,\n          5761650000\n        ],\n        \"semantic_type\": \"\",\n        \"description\": \"\"\n      }\n    }\n  ]\n}"
            }
          },
          "metadata": {},
          "execution_count": 26
        }
      ]
    },
    {
      "cell_type": "markdown",
      "source": [
        "### Step 2: Interpolate FEDFUNDS Data to Make It Daily\n",
        "The Federal Funds Effective Rate (FEDFUNDS) dataset is available on a monthly basis. To match the daily granularity of the S&P 500 data, we will:\n",
        "1. Resample the data to daily frequency.\n",
        "2. Interpolate missing values to fill gaps smoothly.\n",
        "3. Ensure the `Date` column aligns with the daily frequency."
      ],
      "metadata": {
        "id": "DGAZBxMf5eKQ"
      }
    },
    {
      "cell_type": "code",
      "source": [
        "# Assuming FEDFUNDS data is already loaded into a variable named 'fedfunds_data'\n",
        "from pandas_datareader import data as pdr\n",
        "\n",
        "# Define the date range for FEDFUNDS data\n",
        "start_date = '2004-12-01'\n",
        "end_date = '2024-12-01'\n",
        "\n",
        "# Fetch the FEDFUNDS data\n",
        "fedfunds_data = pdr.DataReader('FEDFUNDS', 'fred', start=start_date, end=end_date)\n",
        "\n",
        "# Reset the index to prepare for interpolation\n",
        "fedfunds_data.reset_index(inplace=True)\n",
        "\n",
        "# Convert the \"DATE\" column to datetime (if not already)\n",
        "fedfunds_data['DATE'] = pd.to_datetime(fedfunds_data['DATE'])\n",
        "\n",
        "# Rename columns for consistency\n",
        "fedfunds_data.rename(columns={'DATE': 'Date', 'FEDFUNDS': 'Effective_Rate'}, inplace=True)\n",
        "\n",
        "# Set the Date as the index for resampling\n",
        "fedfunds_data.set_index('Date', inplace=True)\n",
        "\n",
        "# Resample to daily frequency and interpolate missing values\n",
        "fedfunds_daily = fedfunds_data.resample('D').interpolate(method='linear')\n",
        "\n",
        "# Reset the index to bring back the Date column\n",
        "fedfunds_daily.reset_index(inplace=True)\n",
        "\n",
        "# Display the interpolated dataset\n",
        "print(\"Interpolated FEDFUNDS Data:\")\n",
        "print(fedfunds_daily.head())\n"
      ],
      "metadata": {
        "colab": {
          "base_uri": "https://localhost:8080/"
        },
        "id": "kSdQlhbj2tPM",
        "outputId": "f1fb068f-cad4-494c-8028-bbb94b41cccf"
      },
      "execution_count": 27,
      "outputs": [
        {
          "output_type": "stream",
          "name": "stdout",
          "text": [
            "Interpolated FEDFUNDS Data:\n",
            "        Date  Effective_Rate\n",
            "0 2004-12-01        2.160000\n",
            "1 2004-12-02        2.163871\n",
            "2 2004-12-03        2.167742\n",
            "3 2004-12-04        2.171613\n",
            "4 2004-12-05        2.175484\n"
          ]
        }
      ]
    },
    {
      "cell_type": "markdown",
      "source": [
        "### Step 3: Combine Both Datasets\n",
        "We now have two preprocessed datasets:\n",
        "1. **S&P 500 Data**: Cleaned and formatted with daily values.\n",
        "2. **FEDFUNDS Data**: Interpolated to daily frequency.\n",
        "\n",
        "The goal is to:\n",
        "1. Merge both datasets on the `Date` column.\n",
        "2. Ensure all dates from December 1, 2004, to December 1, 2024, are included.\n",
        "3. Fill any missing values using forward-fill and backward-fill techniques.\n"
      ],
      "metadata": {
        "id": "p2m0uCbW5vVR"
      }
    },
    {
      "cell_type": "code",
      "source": [
        "# Step 1: Standardize the Date columns' timezone to remove any inconsistencies\n",
        "sp500_data_cleaned['Date'] = sp500_data_cleaned['Date'].dt.tz_localize(None)\n",
        "fedfunds_daily['Date'] = fedfunds_daily['Date'].dt.tz_localize(None)\n",
        "\n",
        "# Step 2: Create a complete date range\n",
        "complete_date_range = pd.date_range(start='2004-12-01', end='2024-12-01', freq='D')\n",
        "complete_data = pd.DataFrame({'Date': complete_date_range})\n",
        "\n",
        "# Step 3: Merge the S&P 500 data with the complete date range\n",
        "merged_data = pd.merge(complete_data, sp500_data_cleaned, on='Date', how='left')\n",
        "\n",
        "# Step 4: Merge the FEDFUNDS data\n",
        "merged_data = pd.merge(merged_data, fedfunds_daily, on='Date', how='left')\n",
        "\n",
        "# Step 5: Fill missing values using forward-fill and backward-fill\n",
        "merged_data.fillna(method='ffill', inplace=True)\n",
        "merged_data.fillna(method='bfill', inplace=True)\n",
        "\n",
        "# Display the final combined dataset\n",
        "print(\"Combined Dataset:\")\n",
        "print(merged_data.head())\n"
      ],
      "metadata": {
        "colab": {
          "base_uri": "https://localhost:8080/"
        },
        "id": "QReaUTzt5hGu",
        "outputId": "951a0b35-a112-472b-ce8e-4ec4f2e94b3d"
      },
      "execution_count": 28,
      "outputs": [
        {
          "output_type": "stream",
          "name": "stdout",
          "text": [
            "Combined Dataset:\n",
            "        Date  SP500_Adj_Close  SP500_Close   SP500_High    SP500_Low  \\\n",
            "0 2004-12-01      1191.369995  1191.369995  1191.369995  1173.780029   \n",
            "1 2004-12-02      1190.329956  1190.329956  1194.800049  1186.719971   \n",
            "2 2004-12-03      1191.170044  1191.170044  1197.459961  1187.709961   \n",
            "3 2004-12-04      1191.170044  1191.170044  1197.459961  1187.709961   \n",
            "4 2004-12-05      1191.170044  1191.170044  1197.459961  1187.709961   \n",
            "\n",
            "    SP500_Open  SP500_Volume  Effective_Rate  \n",
            "0  1173.780029  1.772800e+09        2.160000  \n",
            "1  1191.369995  1.774900e+09        2.163871  \n",
            "2  1190.329956  1.566700e+09        2.167742  \n",
            "3  1190.329956  1.566700e+09        2.171613  \n",
            "4  1190.329956  1.566700e+09        2.175484  \n"
          ]
        },
        {
          "output_type": "stream",
          "name": "stderr",
          "text": [
            "<ipython-input-28-8c6bc535962c>:16: FutureWarning: DataFrame.fillna with 'method' is deprecated and will raise in a future version. Use obj.ffill() or obj.bfill() instead.\n",
            "  merged_data.fillna(method='ffill', inplace=True)\n",
            "<ipython-input-28-8c6bc535962c>:17: FutureWarning: DataFrame.fillna with 'method' is deprecated and will raise in a future version. Use obj.ffill() or obj.bfill() instead.\n",
            "  merged_data.fillna(method='bfill', inplace=True)\n"
          ]
        }
      ]
    },
    {
      "cell_type": "markdown",
      "source": [
        "### Step 4: Data Cleaning\n",
        "\n",
        "#### Objective:\n",
        "1. **Data Cleaning**: Handle missing or erroneous values and normalize the dataset.\n",
        "2. **Boxplot Visualization**: Visualize each column to detect outliers.\n",
        "3. **Outlier Detection and Removal**: Remove rows with significant outliers.\n"
      ],
      "metadata": {
        "id": "3LhUFDzw6ken"
      }
    },
    {
      "cell_type": "code",
      "source": [
        "import matplotlib.pyplot as plt\n",
        "\n",
        "# Step 1: Identify and Handle Missing Values\n",
        "# Check for missing values in the dataset\n",
        "print(\"Missing Values:\")\n",
        "print(merged_data.isnull().sum())\n",
        "\n",
        "# Optionally, fill missing values (e.g., with median values if needed)\n",
        "merged_data.fillna(merged_data.median(), inplace=True)\n",
        "\n",
        "# Step 2: Normalize Numeric Columns\n",
        "# Identify numeric columns\n",
        "numeric_columns = [\n",
        "    \"SP500_Adj_Close\", \"SP500_Close\", \"SP500_High\",\n",
        "    \"SP500_Low\", \"SP500_Open\", \"SP500_Volume\", \"Effective_Rate\"\n",
        "]\n",
        "\n",
        "# Save min and max values for each numeric column\n",
        "scaling_params = {}\n",
        "for col in numeric_columns:\n",
        "    scaling_params[col] = {\n",
        "        \"min\": merged_data[col].min(),\n",
        "        \"max\": merged_data[col].max()\n",
        "    }\n",
        "import json\n",
        "\n",
        "# Save scaling_params to a JSON file\n",
        "with open(\"scaling_params.json\", \"w\") as f:\n",
        "    json.dump(scaling_params, f)\n",
        "\n",
        "# Normalize using Min-Max scaling\n",
        "merged_data[numeric_columns] = (\n",
        "    merged_data[numeric_columns] - merged_data[numeric_columns].min()) / (\n",
        "    merged_data[numeric_columns].max() - merged_data[numeric_columns].min())\n",
        "\n",
        "# Step 3: Boxplot Visualization for Outlier Detection\n",
        "plt.figure(figsize=(16, 10))\n",
        "merged_data.boxplot(column=numeric_columns, vert=False)\n",
        "plt.title(\"Boxplot of Numeric Columns\")\n",
        "plt.show()\n",
        "\n",
        "# Step 4: Outlier Detection and Removal\n",
        "# Define a function to remove outliers (using IQR method)\n",
        "def remove_outliers(df, columns):\n",
        "    for column in columns:\n",
        "        Q1 = df[column].quantile(0.25)\n",
        "        Q3 = df[column].quantile(0.75)\n",
        "        IQR = Q3 - Q1\n",
        "        lower_bound = Q1 - 1.5 * IQR\n",
        "        upper_bound = Q3 + 1.5 * IQR\n",
        "        df = df[(df[column] >= lower_bound) & (df[column] <= upper_bound)]\n",
        "    return df\n",
        "\n",
        "# Remove outliers from numeric columns\n",
        "merged_data_cleaned = remove_outliers(merged_data, numeric_columns)\n",
        "\n",
        "# Display the cleaned dataset\n",
        "print(\"Cleaned Dataset:\")\n",
        "print(merged_data_cleaned.head())\n"
      ],
      "metadata": {
        "colab": {
          "base_uri": "https://localhost:8080/",
          "height": 1000
        },
        "id": "MEtvKUeO5x4Z",
        "outputId": "24d0ae1e-04b2-4f2b-8dbe-1dab05ab7c46"
      },
      "execution_count": 29,
      "outputs": [
        {
          "output_type": "stream",
          "name": "stdout",
          "text": [
            "Missing Values:\n",
            "Date               0\n",
            "SP500_Adj_Close    0\n",
            "SP500_Close        0\n",
            "SP500_High         0\n",
            "SP500_Low          0\n",
            "SP500_Open         0\n",
            "SP500_Volume       0\n",
            "Effective_Rate     0\n",
            "dtype: int64\n"
          ]
        },
        {
          "output_type": "display_data",
          "data": {
            "text/plain": [
              "<Figure size 1600x1000 with 1 Axes>"
            ],
            "image/png": "[encoded data removed]"
          },
          "metadata": {}
        },
        {
          "output_type": "stream",
          "name": "stdout",
          "text": [
            "Cleaned Dataset:\n",
            "        Date  SP500_Adj_Close  SP500_Close  SP500_High  SP500_Low  SP500_Open  \\\n",
            "0 2004-12-01         0.096127     0.096127    0.092748   0.094992    0.092693   \n",
            "1 2004-12-02         0.095932     0.095932    0.093389   0.097416    0.095990   \n",
            "2 2004-12-03         0.096089     0.096089    0.093887   0.097602    0.095795   \n",
            "3 2004-12-04         0.096089     0.096089    0.093887   0.097602    0.095795   \n",
            "4 2004-12-05         0.096089     0.096089    0.093887   0.097602    0.095795   \n",
            "\n",
            "   SP500_Volume  Effective_Rate  \n",
            "0      0.097645        0.399621  \n",
            "1      0.097841        0.400354  \n",
            "2      0.078440        0.401087  \n",
            "3      0.078440        0.401821  \n",
            "4      0.078440        0.402554  \n"
          ]
        }
      ]
    },
    {
      "cell_type": "code",
      "source": [
        "# Save the cleaned dataset to a CSV file\n",
        "output_file_path = 'SP500_preprocessed_data.csv'\n",
        "merged_data_cleaned.to_csv(output_file_path, index=False)\n",
        "\n",
        "print(f\"Cleaned dataset has been saved to {output_file_path}.\")\n"
      ],
      "metadata": {
        "colab": {
          "base_uri": "https://localhost:8080/"
        },
        "id": "VKgpz8RN6jRP",
        "outputId": "ef9d1884-8618-488b-b861-c1ba29e1d5e3"
      },
      "execution_count": 30,
      "outputs": [
        {
          "output_type": "stream",
          "name": "stdout",
          "text": [
            "Cleaned dataset has been saved to SP500_preprocessed_data.csv.\n"
          ]
        }
      ]
    },
    {
      "cell_type": "markdown",
      "source": [
        "# Part 3: Predicting S&P 500 Price Evolution\n",
        "\n",
        "## Objective:\n",
        "Train multiple models to predict the **next day’s S&P 500 closing price** and evaluate their performance. Then, use the best-performing model for longer horizon predictions (1 month, 3 months, 6 months, and 1 year).\n",
        "\n",
        "---\n",
        "\n",
        "## Section 1: Traditional ML Models\n",
        "\n",
        "### Models:\n",
        "1. **Linear Regression**:\n",
        "   - A simple model that assumes a linear relationship between input features and the target variable.\n",
        "   - Best suited for data with linear trends.\n",
        "\n",
        "2. **Random Forest Regressor**:\n",
        "   - An ensemble learning method that uses multiple decision trees for predictions.\n",
        "   - Handles non-linear relationships and works well on complex datasets.\n",
        "\n",
        "3. **Support Vector Regressor (SVR)**:\n",
        "   - A kernel-based regression technique that finds a hyperplane to minimize prediction error.\n",
        "   - Effective for small datasets and works in high-dimensional spaces.\n",
        "\n",
        "---\n",
        "\n",
        "### Step 1: Prepare Data for ML Models\n",
        "We need to:\n",
        "1. **Create Lagged Features**:\n",
        "   - Generate a column for the next day’s target price using `.shift(-1)`.\n",
        "2. **Split Data**:\n",
        "   - Separate the dataset into features (`X`) and target (`y`).\n",
        "   - Use an 80-20 split for training and testing.\n"
      ],
      "metadata": {
        "id": "TLv8acvTAZV7"
      }
    },
    {
      "cell_type": "code",
      "source": [
        "from sklearn.model_selection import train_test_split\n",
        "\n",
        "# Create lagged features for ML models\n",
        "merged_data_cleaned['SP500_Target'] = merged_data_cleaned['SP500_Close'].shift(-1)\n",
        "\n",
        "# Drop the last row with NaN in the target\n",
        "merged_data_cleaned.dropna(inplace=True)\n",
        "\n",
        "# Features for ML models\n",
        "X_ml = merged_data_cleaned[[\"SP500_Close\", \"SP500_Adj_Close\", \"SP500_High\", \"SP500_Low\", \"SP500_Open\", \"Effective_Rate\"]]\n",
        "y_ml = merged_data_cleaned[\"SP500_Target\"]\n",
        "\n",
        "# Split data for ML models\n",
        "X_train_ml, X_test_ml, y_train_ml, y_test_ml = train_test_split(X_ml, y_ml, test_size=0.2, random_state=42)"
      ],
      "metadata": {
        "id": "DT-ZEx_-7u98"
      },
      "execution_count": 31,
      "outputs": []
    },
    {
      "cell_type": "markdown",
      "source": [
        "### ML Models:\n",
        "1. **Linear Regression**: Assumes a linear relationship between features and the target.\n",
        "2. **Random Forest**: Captures non-linear relationships and reduces overfitting through averaging.\n",
        "3. **SVR**: Effective for smaller datasets and high-dimensional spaces.\n",
        "\n",
        "#### Metric:\n",
        "- **MSE (Mean Squared Error)**: Measures the average squared difference between predicted and actual values. Lower is better.\n"
      ],
      "metadata": {
        "id": "8WhxTBlvBxK4"
      }
    },
    {
      "cell_type": "code",
      "source": [
        "from sklearn.linear_model import LinearRegression\n",
        "from sklearn.ensemble import RandomForestRegressor\n",
        "from sklearn.svm import SVR\n",
        "from sklearn.metrics import mean_squared_error\n",
        "\n",
        "# Initialize ML models\n",
        "ml_models = {\n",
        "    'Linear Regression': LinearRegression(),\n",
        "    'Random Forest': RandomForestRegressor(n_estimators=100, random_state=42),\n",
        "    'Support Vector Regressor': SVR()\n",
        "}\n",
        "\n",
        "# Train and evaluate ML models\n",
        "ml_results = {}\n",
        "for model_name, model in ml_models.items():\n",
        "    model.fit(X_train_ml, y_train_ml)\n",
        "    predictions = model.predict(X_test_ml)\n",
        "    mse = mean_squared_error(y_test_ml, predictions)\n",
        "    ml_results[model_name] = mse\n",
        "    print(f\"{model_name} MSE: {mse}\")\n"
      ],
      "metadata": {
        "colab": {
          "base_uri": "https://localhost:8080/"
        },
        "id": "P2vAY-1HBBFw",
        "outputId": "080cdb19-7dc6-437a-8196-5d5383b5460a"
      },
      "execution_count": 32,
      "outputs": [
        {
          "output_type": "stream",
          "name": "stdout",
          "text": [
            "Linear Regression MSE: 1.974035312735007e-05\n",
            "Random Forest MSE: 2.393570555600397e-05\n",
            "Support Vector Regressor MSE: 0.002470425747908515\n"
          ]
        }
      ]
    },
    {
      "cell_type": "markdown",
      "source": [
        "### Why VAR is Special:\n",
        "1. **Multivariate Time Series**:\n",
        "   - Unlike traditional ML models, which predict a single target, VAR predicts the evolution of all variables simultaneously.\n",
        "   - Uses lagged values of all variables to capture interactions.\n",
        "\n",
        "2. **Captures Interdependencies**:\n",
        "   - Ideal for datasets where variables (e.g., `SP500_Close` and `Effective_Rate`) influence each other.\n",
        "\n",
        "3. **Use Case**:\n",
        "   - Excellent for financial markets, where macroeconomic factors impact stock prices.\n"
      ],
      "metadata": {
        "id": "9rpI4U4XBzyl"
      }
    },
    {
      "cell_type": "code",
      "source": [
        "from statsmodels.tsa.api import VAR\n",
        "\n",
        "# Prepare data for VAR\n",
        "var_data = merged_data_cleaned[[\"SP500_Close\", \"SP500_Adj_Close\", \"SP500_High\", \"SP500_Low\", \"SP500_Open\", \"Effective_Rate\"]]\n",
        "\n",
        "# Split VAR data into training and testing sets\n",
        "train_size = int(len(var_data) * 0.8)\n",
        "var_train, var_test = var_data.iloc[:train_size], var_data.iloc[train_size:]\n",
        "\n",
        "# Train the VAR model\n",
        "var_model = VAR(var_train)\n",
        "var_results = var_model.fit(maxlags=15)\n",
        "\n",
        "# Forecast for the testing period\n",
        "forecast_steps = len(var_test)\n",
        "var_forecast = var_results.forecast(var_train.values[-var_results.k_ar:], steps=forecast_steps)\n",
        "\n",
        "# Evaluate VAR predictions\n",
        "var_forecast_df = pd.DataFrame(var_forecast, columns=var_train.columns)\n",
        "var_mse = mean_squared_error(var_test[\"SP500_Close\"], var_forecast_df[\"SP500_Close\"])\n",
        "print(f\"VAR Model MSE: {var_mse}\")\n",
        "\n",
        "# Add VAR results to the summary\n",
        "ml_results['VAR Model'] = var_mse\n"
      ],
      "metadata": {
        "colab": {
          "base_uri": "https://localhost:8080/"
        },
        "id": "II6ZjY7vBTmY",
        "outputId": "2e7dab71-a791-4230-deee-ba6c5d704ccd"
      },
      "execution_count": 33,
      "outputs": [
        {
          "output_type": "stream",
          "name": "stderr",
          "text": [
            "/usr/local/lib/python3.10/dist-packages/statsmodels/tsa/base/tsa_model.py:473: ValueWarning: An unsupported index was provided. As a result, forecasts cannot be generated. To use the model for forecasting, use one of the supported classes of index.\n",
            "  self._init_dates(dates, freq)\n"
          ]
        },
        {
          "output_type": "stream",
          "name": "stdout",
          "text": [
            "VAR Model MSE: 0.026052233479183097\n"
          ]
        }
      ]
    },
    {
      "cell_type": "markdown",
      "source": [
        "#### Compare the Models:\n",
        "1. List the MSE for each model.\n",
        "2. Identify the best-performing model for further predictions (1 month, 3 months, etc.).\n"
      ],
      "metadata": {
        "id": "-P4tKU78ClPG"
      }
    },
    {
      "cell_type": "code",
      "source": [
        "# Display all model performances\n",
        "print(\"\\nModel Performance Summary:\")\n",
        "for model_name, mse in ml_results.items():\n",
        "    print(f\"{model_name}: MSE = {mse}\")\n"
      ],
      "metadata": {
        "colab": {
          "base_uri": "https://localhost:8080/"
        },
        "id": "HL7zHMmQB-Ht",
        "outputId": "049f8360-c1a1-4e21-fab2-123a3f8e75de"
      },
      "execution_count": 34,
      "outputs": [
        {
          "output_type": "stream",
          "name": "stdout",
          "text": [
            "\n",
            "Model Performance Summary:\n",
            "Linear Regression: MSE = 1.974035312735007e-05\n",
            "Random Forest: MSE = 2.393570555600397e-05\n",
            "Support Vector Regressor: MSE = 0.002470425747908515\n",
            "VAR Model: MSE = 0.026052233479183097\n"
          ]
        }
      ]
    },
    {
      "cell_type": "markdown",
      "source": [
        "## Why Did Linear Regression Perform Better?\n",
        "\n",
        "### Observations:\n",
        "1. **Linear Relationships**:\n",
        "   - The dataset might exhibit a predominantly linear relationship between the features (e.g., `SP500_Close`, `Effective_Rate`) and the target variable (`SP500_Target`).\n",
        "   - Linear Regression excels in such cases, leading to lower Mean Squared Error (MSE) compared to more complex models.\n",
        "\n",
        "2. **Simplicity of the Task**:\n",
        "   - For next-day predictions, the impact of features might be straightforward and linearly dependent.\n",
        "   - Complex models like Random Forest or SVR may struggle to provide significant gains for this simple task, particularly if the dataset size is small.\n",
        "\n",
        "3. **Low Variability**:\n",
        "   - If the stock prices and related features exhibit low variability, Linear Regression can effectively capture the trend without overfitting.\n",
        "\n",
        "4. **Out-of-the-Box Performance**:\n",
        "   - Linear Regression requires no hyperparameter tuning, whereas Random Forest and SVR perform best with optimized hyperparameters.\n",
        "   - The lack of tuning might have caused other models to underperform relative to Linear Regression.\n",
        "\n",
        "---\n",
        "\n",
        "## Why Should We Still Consider VAR for Longer-Term Predictions?\n",
        "\n",
        "### Multivariate Time Series Analysis:\n",
        "- Unlike Linear Regression, VAR leverages lagged values of all variables in the dataset (e.g., `SP500_Close`, `Effective_Rate`, etc.).\n",
        "- It captures interdependencies and feedback loops between variables, which are especially crucial for longer-term predictions.\n",
        "\n",
        "### Non-Linearity in Long Horizons:\n",
        "- Over longer horizons (e.g., 1 month, 3 months, etc.), non-linear relationships and time-dependent interactions between variables become more prominent.\n",
        "- Linear Regression, which assumes linearity, may fail to generalize for such complex scenarios.\n",
        "\n",
        "### Data-Driven Insights:\n",
        "- VAR can reveal hidden patterns and causal relationships between macroeconomic indicators and stock prices, improving the quality of predictions for longer time frames.\n",
        "\n",
        "---\n",
        "\n",
        "## Conclusion:\n",
        "- **Next-Day Predictions**: Linear Regression performs well due to the simplicity and linearity of the task.\n",
        "- **Long-Term Predictions**: VAR is likely to outperform Linear Regression for 1 month, 3 months, or longer horizons due to its ability to capture multivariate dynamics and temporal dependencies.\n",
        "\n",
        "### Suggested Strategy:\n",
        "- Use Linear Regression for short-term predictions where simplicity and speed are prioritized.\n",
        "- Leverage VAR for longer-term predictions to capture inter-variable relationships and improve forecast accuracy.\n"
      ],
      "metadata": {
        "id": "k-cBq3AtFi9s"
      }
    },
    {
      "cell_type": "markdown",
      "source": [
        "# Visualizing Price Evolution in a Streamlit Web Page"
      ],
      "metadata": {
        "id": "7vC30I6ZSxh0"
      }
    },
    {
      "cell_type": "code",
      "source": [
        "# Install Streamlit and ngrok\n",
        "!pip install streamlit pyngrok\n"
      ],
      "metadata": {
        "colab": {
          "base_uri": "https://localhost:8080/"
        },
        "id": "2AsWIhHcM-7c",
        "outputId": "b62334ba-ac23-4c6d-bd7a-aacc16abbbc2"
      },
      "execution_count": 35,
      "outputs": [
        {
          "output_type": "stream",
          "name": "stdout",
          "text": [
            "Requirement already satisfied: streamlit in /usr/local/lib/python3.10/dist-packages (1.40.2)\n",
            "Requirement already satisfied: pyngrok in /usr/local/lib/python3.10/dist-packages (7.2.1)\n",
            "Requirement already satisfied: altair<6,>=4.0 in /usr/local/lib/python3.10/dist-packages (from streamlit) (4.2.2)\n",
            "Requirement already satisfied: blinker<2,>=1.0.0 in /usr/local/lib/python3.10/dist-packages (from streamlit) (1.9.0)\n",
            "Requirement already satisfied: cachetools<6,>=4.0 in /usr/local/lib/python3.10/dist-packages (from streamlit) (5.5.0)\n",
            "Requirement already satisfied: click<9,>=7.0 in /usr/local/lib/python3.10/dist-packages (from streamlit) (8.1.7)\n",
            "Requirement already satisfied: numpy<3,>=1.23 in /usr/local/lib/python3.10/dist-packages (from streamlit) (1.26.4)\n",
            "Requirement already satisfied: packaging<25,>=20 in /usr/local/lib/python3.10/dist-packages (from streamlit) (24.2)\n",
            "Requirement already satisfied: pandas<3,>=1.4.0 in /usr/local/lib/python3.10/dist-packages (from streamlit) (2.2.2)\n",
            "Requirement already satisfied: pillow<12,>=7.1.0 in /usr/local/lib/python3.10/dist-packages (from streamlit) (11.0.0)\n",
            "Requirement already satisfied: protobuf<6,>=3.20 in /usr/local/lib/python3.10/dist-packages (from streamlit) (4.25.5)\n",
            "Requirement already satisfied: pyarrow>=7.0 in /usr/local/lib/python3.10/dist-packages (from streamlit) (17.0.0)\n",
            "Requirement already satisfied: requests<3,>=2.27 in /usr/local/lib/python3.10/dist-packages (from streamlit) (2.32.3)\n",
            "Requirement already satisfied: rich<14,>=10.14.0 in /usr/local/lib/python3.10/dist-packages (from streamlit) (13.9.4)\n",
            "Requirement already satisfied: tenacity<10,>=8.1.0 in /usr/local/lib/python3.10/dist-packages (from streamlit) (9.0.0)\n",
            "Requirement already satisfied: toml<2,>=0.10.1 in /usr/local/lib/python3.10/dist-packages (from streamlit) (0.10.2)\n",
            "Requirement already satisfied: typing-extensions<5,>=4.3.0 in /usr/local/lib/python3.10/dist-packages (from streamlit) (4.12.2)\n",
            "Requirement already satisfied: watchdog<7,>=2.1.5 in /usr/local/lib/python3.10/dist-packages (from streamlit) (6.0.0)\n",
            "Requirement already satisfied: gitpython!=3.1.19,<4,>=3.0.7 in /usr/local/lib/python3.10/dist-packages (from streamlit) (3.1.43)\n",
            "Requirement already satisfied: pydeck<1,>=0.8.0b4 in /usr/local/lib/python3.10/dist-packages (from streamlit) (0.9.1)\n",
            "Requirement already satisfied: tornado<7,>=6.0.3 in /usr/local/lib/python3.10/dist-packages (from streamlit) (6.3.3)\n",
            "Requirement already satisfied: PyYAML>=5.1 in /usr/local/lib/python3.10/dist-packages (from pyngrok) (6.0.2)\n",
            "Requirement already satisfied: entrypoints in /usr/local/lib/python3.10/dist-packages (from altair<6,>=4.0->streamlit) (0.4)\n",
            "Requirement already satisfied: jinja2 in /usr/local/lib/python3.10/dist-packages (from altair<6,>=4.0->streamlit) (3.1.4)\n",
            "Requirement already satisfied: jsonschema>=3.0 in /usr/local/lib/python3.10/dist-packages (from altair<6,>=4.0->streamlit) (4.23.0)\n",
            "Requirement already satisfied: toolz in /usr/local/lib/python3.10/dist-packages (from altair<6,>=4.0->streamlit) (0.12.1)\n",
            "Requirement already satisfied: gitdb<5,>=4.0.1 in /usr/local/lib/python3.10/dist-packages (from gitpython!=3.1.19,<4,>=3.0.7->streamlit) (4.0.11)\n",
            "Requirement already satisfied: python-dateutil>=2.8.2 in /usr/local/lib/python3.10/dist-packages (from pandas<3,>=1.4.0->streamlit) (2.8.2)\n",
            "Requirement already satisfied: pytz>=2020.1 in /usr/local/lib/python3.10/dist-packages (from pandas<3,>=1.4.0->streamlit) (2024.2)\n",
            "Requirement already satisfied: tzdata>=2022.7 in /usr/local/lib/python3.10/dist-packages (from pandas<3,>=1.4.0->streamlit) (2024.2)\n",
            "Requirement already satisfied: charset-normalizer<4,>=2 in /usr/local/lib/python3.10/dist-packages (from requests<3,>=2.27->streamlit) (3.4.0)\n",
            "Requirement already satisfied: idna<4,>=2.5 in /usr/local/lib/python3.10/dist-packages (from requests<3,>=2.27->streamlit) (3.10)\n",
            "Requirement already satisfied: urllib3<3,>=1.21.1 in /usr/local/lib/python3.10/dist-packages (from requests<3,>=2.27->streamlit) (2.2.3)\n",
            "Requirement already satisfied: certifi>=2017.4.17 in /usr/local/lib/python3.10/dist-packages (from requests<3,>=2.27->streamlit) (2024.8.30)\n",
            "Requirement already satisfied: markdown-it-py>=2.2.0 in /usr/local/lib/python3.10/dist-packages (from rich<14,>=10.14.0->streamlit) (3.0.0)\n",
            "Requirement already satisfied: pygments<3.0.0,>=2.13.0 in /usr/local/lib/python3.10/dist-packages (from rich<14,>=10.14.0->streamlit) (2.18.0)\n",
            "Requirement already satisfied: smmap<6,>=3.0.1 in /usr/local/lib/python3.10/dist-packages (from gitdb<5,>=4.0.1->gitpython!=3.1.19,<4,>=3.0.7->streamlit) (5.0.1)\n",
            "Requirement already satisfied: MarkupSafe>=2.0 in /usr/local/lib/python3.10/dist-packages (from jinja2->altair<6,>=4.0->streamlit) (3.0.2)\n",
            "Requirement already satisfied: attrs>=22.2.0 in /usr/local/lib/python3.10/dist-packages (from jsonschema>=3.0->altair<6,>=4.0->streamlit) (24.2.0)\n",
            "Requirement already satisfied: jsonschema-specifications>=2023.03.6 in /usr/local/lib/python3.10/dist-packages (from jsonschema>=3.0->altair<6,>=4.0->streamlit) (2024.10.1)\n",
            "Requirement already satisfied: referencing>=0.28.4 in /usr/local/lib/python3.10/dist-packages (from jsonschema>=3.0->altair<6,>=4.0->streamlit) (0.35.1)\n",
            "Requirement already satisfied: rpds-py>=0.7.1 in /usr/local/lib/python3.10/dist-packages (from jsonschema>=3.0->altair<6,>=4.0->streamlit) (0.21.0)\n",
            "Requirement already satisfied: mdurl~=0.1 in /usr/local/lib/python3.10/dist-packages (from markdown-it-py>=2.2.0->rich<14,>=10.14.0->streamlit) (0.1.2)\n",
            "Requirement already satisfied: six>=1.5 in /usr/local/lib/python3.10/dist-packages (from python-dateutil>=2.8.2->pandas<3,>=1.4.0->streamlit) (1.16.0)\n"
          ]
        }
      ]
    },
    {
      "cell_type": "code",
      "source": [
        "# Authenticate ngrok with your token\n",
        "!ngrok authtoken 2phnQ5Pv67jGGrYRS0ercLUc9ag_6ersqNj6MP25Yn2cYMF6k\n"
      ],
      "metadata": {
        "colab": {
          "base_uri": "https://localhost:8080/"
        },
        "id": "uXKx5LCFOENQ",
        "outputId": "4e89b946-5897-4870-cbaf-f339e1c2171f"
      },
      "execution_count": 36,
      "outputs": [
        {
          "output_type": "stream",
          "name": "stdout",
          "text": [
            "Authtoken saved to configuration file: /root/.config/ngrok/ngrok.yml\n"
          ]
        }
      ]
    },
    {
      "cell_type": "code",
      "source": [
        "import os\n",
        "from pyngrok import ngrok\n",
        "\n",
        "# Write the Streamlit app to a file\n",
        "with open(\"streamlit_app.py\", \"w\") as f:\n",
        "    f.write(\"\"\"\n",
        "import streamlit as st\n",
        "import pandas as pd\n",
        "import numpy as np\n",
        "from sklearn.linear_model import LinearRegression\n",
        "from statsmodels.tsa.api import VAR\n",
        "import json\n",
        "\n",
        "# Load scaling parameters\n",
        "with open(\"scaling_params.json\", \"r\") as f:\n",
        "    scaling_params = json.load(f)\n",
        "\n",
        "# Load the dataset\n",
        "@st.cache_data\n",
        "def load_data():\n",
        "    data = pd.read_csv(\"SP500_preprocessed_data.csv\")\n",
        "    data['Date'] = pd.to_datetime(data['Date'])\n",
        "    data.set_index('Date', inplace=True)\n",
        "    return data\n",
        "\n",
        "merged_data_cleaned = load_data()\n",
        "\n",
        "def reverse_scaling(predictions, column_name, scaling_params):\n",
        "    predictions = np.array(predictions)  # Convert to a NumPy array for element-wise operations\n",
        "    return predictions * (scaling_params[column_name][\"max\"] - scaling_params[column_name][\"min\"]) + scaling_params[column_name][\"min\"]\n",
        "\n",
        "# Train Linear Regression for short-term predictions\n",
        "def train_linear_regression(data, target_lag):\n",
        "    data = data.copy()\n",
        "\n",
        "    # Create lagged features for prediction\n",
        "    for lag in range(1, target_lag + 1):\n",
        "        data[f\"SP500_Close_lag_{lag}\"] = data[\"SP500_Close\"].shift(lag)\n",
        "    data.dropna(inplace=True)\n",
        "\n",
        "    X = data[[f\"SP500_Close_lag_{lag}\" for lag in range(1, target_lag + 1)]]\n",
        "    y = data[\"SP500_Close\"]\n",
        "\n",
        "    # Train Linear Regression\n",
        "    model = LinearRegression()\n",
        "    model.fit(X, y)\n",
        "\n",
        "    # Prepare data for future prediction\n",
        "    last_known = X.iloc[-1].values.reshape(1, -1)\n",
        "    future_prediction = model.predict(last_known)\n",
        "\n",
        "    # Use the last date from the dataset\n",
        "    last_date = data.index[-1]\n",
        "    forecast_index = pd.date_range(start=last_date, periods=2, freq=\"D\")[1:]\n",
        "    return forecast_index, [future_prediction[0]]\n",
        "\n",
        "# Train VAR for long-term predictions\n",
        "def train_var(data, forecast_steps):\n",
        "    data = data[[\"SP500_Close\", \"Effective_Rate\", \"SP500_High\", \"SP500_Low\", \"SP500_Open\"]]\n",
        "    train_size = int(len(data) * 0.8)\n",
        "    train = data.iloc[:train_size]\n",
        "\n",
        "    var_model = VAR(train)\n",
        "    var_results = var_model.fit(maxlags=15)\n",
        "\n",
        "    # Use the last date from the dataset for forecasting\n",
        "    last_date = data.index[-1]\n",
        "    forecast = var_results.forecast(train.values[-var_results.k_ar:], steps=forecast_steps)\n",
        "    forecast_index = pd.date_range(start=last_date, periods=forecast_steps + 1, freq=\"D\")[1:]\n",
        "    forecast_df = pd.DataFrame(forecast, columns=data.columns, index=forecast_index)\n",
        "    return forecast_index, forecast_df[\"SP500_Close\"]\n",
        "\n",
        "# Streamlit interface\n",
        "st.title(\"S&P 500 Price Evolution Prediction\")\n",
        "\n",
        "# User selects how to display results\n",
        "display_option = st.radio(\"Choose Display Type:\", [\"Chart\", \"Table\"])\n",
        "\n",
        "# Dropdown for selecting the prediction horizon\n",
        "horizon = st.selectbox(\"Select Prediction Horizon:\", [\"1 Day\", \"1 Week\", \"1 Month\", \"3 Months\", \"6 Months\", \"1 Year\"])\n",
        "\n",
        "if st.button(\"Predict\"):\n",
        "    if horizon == \"1 Day\":\n",
        "        index, predictions = train_linear_regression(merged_data_cleaned, 1)\n",
        "        title = \"1-Day Price Evolution\"\n",
        "    elif horizon == \"1 Week\":\n",
        "        index, predictions = train_linear_regression(merged_data_cleaned, 7)\n",
        "        title = \"1-Week Price Evolution\"\n",
        "    elif horizon == \"1 Month\":\n",
        "        index, predictions = train_linear_regression(merged_data_cleaned, 30)\n",
        "        title = \"1-Month Price Evolution\"\n",
        "    elif horizon == \"3 Months\":\n",
        "        index, predictions = train_var(merged_data_cleaned, 90)\n",
        "        title = \"3-Month Price Evolution\"\n",
        "    elif horizon == \"6 Months\":\n",
        "        index, predictions = train_var(merged_data_cleaned, 180)\n",
        "        title = \"6-Month Price Evolution\"\n",
        "    elif horizon == \"1 Year\":\n",
        "        index, predictions = train_var(merged_data_cleaned, 365)\n",
        "        title = \"1-Year Price Evolution\"\n",
        "\n",
        "    # Reverse scaling for predictions\n",
        "    predictions_original_scale = reverse_scaling(predictions, \"SP500_Close\", scaling_params)\n",
        "\n",
        "    # Prepare data for visualization\n",
        "    predictions_df = pd.DataFrame({\n",
        "          'Date': index,\n",
        "          'Predicted Price': predictions_original_scale\n",
        "      }).set_index('Date')\n",
        "\n",
        "    # Add information about highest and lowest predictions\n",
        "    highest_price = predictions_df[\"Predicted Price\"].max()\n",
        "    highest_date = predictions_df[\"Predicted Price\"].idxmax()\n",
        "    lowest_price = predictions_df[\"Predicted Price\"].min()\n",
        "    lowest_date = predictions_df[\"Predicted Price\"].idxmin()\n",
        "\n",
        "    st.subheader(title)\n",
        "    st.write(f\"**Highest Predicted Price**: {highest_price:.2f} on {highest_date.date()}\")\n",
        "    st.write(f\"**Lowest Predicted Price**: {lowest_price:.2f} on {lowest_date.date()}\")\n",
        "\n",
        "    # Display the results based on user selection\n",
        "    if display_option == \"Chart\":\n",
        "        st.line_chart(predictions_df)\n",
        "    else:\n",
        "        st.dataframe(predictions_df)\n",
        "    \"\"\")\n",
        "\n",
        "# Run Streamlit app using ngrok\n",
        "!streamlit run streamlit_app.py &>/dev/null&\n"
      ],
      "metadata": {
        "id": "ZrqzLq7_MbMK"
      },
      "execution_count": 48,
      "outputs": []
    },
    {
      "cell_type": "code",
      "source": [
        "# Connect ngrok to the Streamlit server on port 8501\n",
        "public_url = ngrok.connect(addr=\"8503\", proto=\"http\")\n",
        "print(f\"Streamlit app is live at {public_url}\")"
      ],
      "metadata": {
        "colab": {
          "base_uri": "https://localhost:8080/"
        },
        "id": "91M9LpVBNQYM",
        "outputId": "064461b1-14ac-445b-a9cb-aa182f713d30"
      },
      "execution_count": 51,
      "outputs": [
        {
          "output_type": "stream",
          "name": "stdout",
          "text": [
            "Streamlit app is live at NgrokTunnel: \"https://ac46-34-147-116-255.ngrok-free.app\" -> \"http://localhost:8503\"\n"
          ]
        }
      ]
    },
    {
      "cell_type": "markdown",
      "source": [],
      "metadata": {
        "id": "Opqw2TQxZky0"
      }
    },
    {
      "cell_type": "code",
      "source": [
        "!pkill -f ngrok\n"
      ],
      "metadata": {
        "id": "UeVCPdeTQVgU",
        "colab": {
          "base_uri": "https://localhost:8080/"
        },
        "outputId": "2074d6ae-0d92-4f79-ac5f-112a8ee8c683"
      },
      "execution_count": 50,
      "outputs": [
        {
          "output_type": "stream",
          "name": "stderr",
          "text": [
            "WARNING:pyngrok.process.ngrok:t=2024-12-03T12:07:28+0000 lvl=warn msg=\"Stopping forwarder\" name=http-8503-439d028c-4468-44e9-9d07-a93e93402cea acceptErr=\"failed to accept connection: Listener closed\"\n"
          ]
        }
      ]
    },
    {
      "cell_type": "code",
      "source": [
        "import seaborn as sns\n",
        "import matplotlib.pyplot as plt\n",
        "\n",
        "# Select only one representative column from the highly correlated group\n",
        "# and keep Effective_Rate for macroeconomic context\n",
        "selected_columns = ['SP500_Close', 'SP500_High', 'SP500_Open', 'Effective_Rate']\n",
        "\n",
        "# Calculate the correlation matrix\n",
        "correlation_matrix = merged_data[selected_columns].corr()\n",
        "\n",
        "# Plot the updated heatmap\n",
        "plt.figure(figsize=(8, 6))\n",
        "sns.heatmap(correlation_matrix, annot=True, cmap='coolwarm', fmt='.2f', linewidths=0.5, cbar_kws={'shrink': 0.75})\n",
        "plt.title(\"Reduced Correlation Matrix: Features vs SP500_Close\", fontsize=16)\n",
        "plt.show()\n"
      ],
      "metadata": {
        "id": "VXzXFdDtROLx",
        "colab": {
          "base_uri": "https://localhost:8080/",
          "height": 547
        },
        "outputId": "20ac963f-cf56-445f-ca47-992f7462007e"
      },
      "execution_count": 40,
      "outputs": [
        {
          "output_type": "display_data",
          "data": {
            "text/plain": [
              "<Figure size 800x600 with 2 Axes>"
            ],
            "image/png": "[encoded data removed]"
          },
          "metadata": {}
        }
      ]
    }
  ]
}